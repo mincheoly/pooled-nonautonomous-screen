{
 "cells": [
  {
   "cell_type": "markdown",
   "id": "ea66e565-0fdf-4dc4-8ee7-b7290368dc46",
   "metadata": {},
   "source": [
    "# Basic simulation of non-autonomous screens"
   ]
  },
  {
   "cell_type": "code",
   "execution_count": 61,
   "id": "3e9d5a49-c143-4460-85a9-53f2c7b092f3",
   "metadata": {},
   "outputs": [],
   "source": [
    "import scipy.stats as stats\n",
    "import numpy as np\n",
    "from sklearn.linear_model import Lasso, LinearRegression"
   ]
  },
  {
   "cell_type": "markdown",
   "id": "2b6bb8e2-d3d0-4a7f-b956-58d72e6ba400",
   "metadata": {},
   "source": [
    "### Define the experiment"
   ]
  },
  {
   "cell_type": "code",
   "execution_count": 69,
   "id": "b356e184-7b02-47ed-894c-d408f26439da",
   "metadata": {},
   "outputs": [],
   "source": [
    "n_guides = 600\n",
    "n_wells = 1000\n",
    "n_guides_per_well = n_guides/n_wells\n",
    "num_hits = 3\n",
    "v_cell_growth = 10"
   ]
  },
  {
   "cell_type": "code",
   "execution_count": 70,
   "id": "f19e8980-0c8c-4c4d-8706-433fe90cd4f9",
   "metadata": {},
   "outputs": [],
   "source": [
    "beta0 = 2000"
   ]
  },
  {
   "cell_type": "code",
   "execution_count": 71,
   "id": "9d310ce3-ce8a-45ac-a357-0ff5724bc10b",
   "metadata": {},
   "outputs": [],
   "source": [
    "beta = np.zeros(n_guides)\n",
    "beta[np.random.choice(n_guides, size=num_hits)] = stats.norm.rvs(loc=100, scale=10, size=num_hits)\n",
    "beta = beta.reshape(-1,1)"
   ]
  },
  {
   "cell_type": "code",
   "execution_count": 72,
   "id": "becfda05-3aaf-4359-8ba5-b697caa37fdb",
   "metadata": {},
   "outputs": [],
   "source": [
    "pooling_matrix = stats.binom.rvs(n=1, p=0.05, size=(n_wells, n_guides))"
   ]
  },
  {
   "cell_type": "markdown",
   "id": "a5acd502-92a7-4629-981e-f9fb374804bf",
   "metadata": {},
   "source": [
    "### Generate the data"
   ]
  },
  {
   "cell_type": "code",
   "execution_count": 77,
   "id": "d8130c9d-c683-4fea-b4c3-18a43e8577f6",
   "metadata": {},
   "outputs": [],
   "source": [
    "def run_simulation(params):\n",
    "    \"\"\" Feed parameters later\"\"\"\n",
    "    \n",
    "    observed_rate = (pooling_matrix@beta).reshape(-1) + beta0 + stats.norm.rvs(scale=np.sqrt(v_cell_growth), size=n_wells)\n",
    "    model = Lasso(alpha=0.1).fit(pooling_matrix, observed_rate)\n",
    "    \n",
    "    return model.coef_"
   ]
  },
  {
   "cell_type": "code",
   "execution_count": null,
   "id": "802d2903-a155-47af-b5a5-a346da21a665",
   "metadata": {},
   "outputs": [],
   "source": []
  }
 ],
 "metadata": {
  "kernelspec": {
   "display_name": "Python 3 (ipykernel)",
   "language": "python",
   "name": "python3"
  },
  "language_info": {
   "codemirror_mode": {
    "name": "ipython",
    "version": 3
   },
   "file_extension": ".py",
   "mimetype": "text/x-python",
   "name": "python",
   "nbconvert_exporter": "python",
   "pygments_lexer": "ipython3",
   "version": "3.8.16"
  }
 },
 "nbformat": 4,
 "nbformat_minor": 5
}
